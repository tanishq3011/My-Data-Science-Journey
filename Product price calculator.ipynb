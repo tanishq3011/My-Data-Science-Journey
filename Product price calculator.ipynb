{
 "cells": [
  {
   "cell_type": "code",
   "execution_count": 19,
   "id": "b6db159c-4667-4296-8847-8dd5c7f31246",
   "metadata": {},
   "outputs": [
    {
     "name": "stdin",
     "output_type": "stream",
     "text": [
      "What is your product's price 2999\n"
     ]
    },
    {
     "name": "stdout",
     "output_type": "stream",
     "text": [
      "Your total is 2099.2999999999997\n",
      "YOU WILL GET ADDITIONAL GIFT\n"
     ]
    }
   ],
   "source": [
    "product_price=int(input(\"What is your product's price\"))\n",
    "if product_price>3000:\n",
    "                  print(f\"Your total is {product_price*0.8}\")\n",
    "                  if product_price==4000:\n",
    "                    print(\"YOU WON A TRIP TO GOA\")\n",
    "elif product_price>=2000 and product_price<=3000:\n",
    "                  print(f\"Your total is {product_price*0.7}\")\n",
    "                  if product_price==2999:\n",
    "                     print(\"YOU WILL GET ADDITIONAL GIFT\")\n",
    "elif product_price==100 and product_price<=2000:\n",
    "                  print(f\"Your total is {product_price*0.6}\")\n",
    "else:\n",
    "                  print(\"Thank you for shopping with us\")\n",
    "                  \n",
    "                  "
   ]
  },
  {
   "cell_type": "code",
   "execution_count": null,
   "id": "47b0186e-a39f-4d80-8296-0b124eab0f77",
   "metadata": {},
   "outputs": [],
   "source": []
  }
 ],
 "metadata": {
  "kernelspec": {
   "display_name": "Python 3 (ipykernel)",
   "language": "python",
   "name": "python3"
  },
  "language_info": {
   "codemirror_mode": {
    "name": "ipython",
    "version": 3
   },
   "file_extension": ".py",
   "mimetype": "text/x-python",
   "name": "python",
   "nbconvert_exporter": "python",
   "pygments_lexer": "ipython3",
   "version": "3.10.8"
  }
 },
 "nbformat": 4,
 "nbformat_minor": 5
}
